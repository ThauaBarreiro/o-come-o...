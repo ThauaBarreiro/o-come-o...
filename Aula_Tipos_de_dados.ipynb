{
  "nbformat": 4,
  "nbformat_minor": 0,
  "metadata": {
    "colab": {
      "provenance": [],
      "authorship_tag": "ABX9TyOjFSaFqDKieSu/smR+B7a5",
      "include_colab_link": true
    },
    "kernelspec": {
      "name": "python3",
      "display_name": "Python 3"
    },
    "language_info": {
      "name": "python"
    }
  },
  "cells": [
    {
      "cell_type": "markdown",
      "metadata": {
        "id": "view-in-github",
        "colab_type": "text"
      },
      "source": [
        "<a href=\"https://colab.research.google.com/github/ThauaBarreiro/o-come-o.../blob/main/Aula_Tipos_de_dados.ipynb\" target=\"_parent\"><img src=\"https://colab.research.google.com/assets/colab-badge.svg\" alt=\"Open In Colab\"/></a>"
      ]
    },
    {
      "cell_type": "code",
      "execution_count": null,
      "metadata": {
        "id": "ggM9pbUxCCuR"
      },
      "outputs": [],
      "source": [
        "print(\"meu primeiro notebook\")"
      ]
    },
    {
      "cell_type": "code",
      "source": [
        "nome = \"thaua barreiro\"\n",
        "print(nome)"
      ],
      "metadata": {
        "id": "B6hLhMS3C8Kr"
      },
      "execution_count": null,
      "outputs": []
    },
    {
      "cell_type": "code",
      "source": [
        "#Descobrir Tipo de Variavel\n",
        "type(nome)"
      ],
      "metadata": {
        "id": "rKQkumMODOXD"
      },
      "execution_count": null,
      "outputs": []
    },
    {
      "cell_type": "code",
      "source": [
        "a = 100\n",
        "b = 25.6\n",
        "c = a > b\n",
        "d = \"chipanze\""
      ],
      "metadata": {
        "id": "hVggWkJMEMtR"
      },
      "execution_count": 7,
      "outputs": []
    },
    {
      "cell_type": "code",
      "source": [
        "type(a)"
      ],
      "metadata": {
        "id": "LLgfs06TEqFa"
      },
      "execution_count": null,
      "outputs": []
    },
    {
      "cell_type": "code",
      "source": [
        "type(b)"
      ],
      "metadata": {
        "id": "q-fecMNnFTvD"
      },
      "execution_count": null,
      "outputs": []
    },
    {
      "cell_type": "code",
      "source": [
        "type(c)"
      ],
      "metadata": {
        "id": "sea_-ZanFXal"
      },
      "execution_count": null,
      "outputs": []
    },
    {
      "cell_type": "code",
      "source": [
        "type(d)"
      ],
      "metadata": {
        "id": "p7IZhVg3FcNb"
      },
      "execution_count": null,
      "outputs": []
    },
    {
      "cell_type": "markdown",
      "source": [
        "tipos de dados booleanos"
      ],
      "metadata": {
        "id": "mhBX4aM1LRux"
      }
    },
    {
      "cell_type": "code",
      "source": [
        "a = 100 < 200\n",
        "b = 85 ==  6\n",
        "c = \"thaua\" == \"thaua\"\n",
        "d = 25 == \"25\"\n",
        "e = 30 == (6*5)\n",
        "f = \"corinthians\" != \"palmeiras\""
      ],
      "metadata": {
        "id": "Y8l16mzrLVmq"
      },
      "execution_count": 18,
      "outputs": []
    },
    {
      "cell_type": "code",
      "source": [
        "print(a)\n",
        "print(b)\n",
        "print(c)\n",
        "print(d)\n",
        "print(e)\n",
        "print(f)"
      ],
      "metadata": {
        "id": "JFQhqFlPMSM8"
      },
      "execution_count": null,
      "outputs": []
    },
    {
      "cell_type": "code",
      "source": [
        "notaAprovacao = 7.0\n",
        "notaWalison = 7.0\n",
        "print(notaAprovacao < notaWalison)"
      ],
      "metadata": {
        "id": "xCJy_vSIMxM4"
      },
      "execution_count": null,
      "outputs": []
    },
    {
      "cell_type": "code",
      "source": [
        "if(notaWalison >= notaAprovacao):\n",
        "  print('aprovado')\n",
        "else:\n",
        "  print('reprovado')"
      ],
      "metadata": {
        "id": "POQuwfHBNU6F"
      },
      "execution_count": null,
      "outputs": []
    },
    {
      "cell_type": "code",
      "source": [],
      "metadata": {
        "id": "MLHOEI_uRBRF"
      },
      "execution_count": null,
      "outputs": []
    },
    {
      "cell_type": "code",
      "source": [
        "#Se a nota for maior ou igual a 7, passou\n",
        "#Se for maior ou igual a  4, mas menor que 7, recuperação\n",
        "#Se for menor que 4 - VOLTE ANO QUE VEM - REPROVADO\n",
        "notaWalison = 7\n",
        "if(notaWalison >= 7.0):\n",
        "  print('aprovado')\n",
        "elif(notaWalison >= 4 and notaWalison < 7):\n",
        "  print('recuperação')\n",
        "else:\n",
        "  print('reprovado')    "
      ],
      "metadata": {
        "colab": {
          "base_uri": "https://localhost:8080/"
        },
        "id": "_a7HmBW_PHt0",
        "outputId": "15fdf674-f7cf-482a-c08c-15f1cd7bcb1d"
      },
      "execution_count": 44,
      "outputs": [
        {
          "output_type": "stream",
          "name": "stdout",
          "text": [
            "aprovado\n"
          ]
        }
      ]
    },
    {
      "cell_type": "code",
      "source": [
        "if(notaWalison  ):\n",
        "  print('aprovado')\n",
        "elif(notaWalison >= 4 ):\n",
        "  print('recuperação')\n",
        "else:\n",
        "  print('reprovado')"
      ],
      "metadata": {
        "id": "976bl3hCUJG3"
      },
      "execution_count": null,
      "outputs": []
    },
    {
      "cell_type": "code",
      "source": [
        "#O velho e bom PARSE\n",
        "\n",
        "nota1 = float(input('Digite a nota, pae!'))\n",
        "nota2 = float(input('digite a segunda nota!'))\n",
        "nota3 = float(input('digite a terceira nota!'))\n",
        "media = (nota1 + nota2 + nota3)/3\n",
        "print(media)"
      ],
      "metadata": {
        "colab": {
          "base_uri": "https://localhost:8080/"
        },
        "id": "3vI8J4sDVjqO",
        "outputId": "7291e0d7-44d6-4776-9d09-6abff030e9ed"
      },
      "execution_count": 46,
      "outputs": [
        {
          "output_type": "stream",
          "name": "stdout",
          "text": [
            "Digite a nota, pae!2\n",
            "digite a segunda nota!3\n",
            "digite a terceira nota!6\n",
            "3.6666666666666665\n"
          ]
        }
      ]
    }
  ]
}